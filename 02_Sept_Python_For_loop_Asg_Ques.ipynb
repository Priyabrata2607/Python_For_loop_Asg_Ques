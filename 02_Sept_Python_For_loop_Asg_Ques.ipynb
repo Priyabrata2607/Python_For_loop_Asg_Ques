{
 "cells": [
  {
   "cell_type": "markdown",
   "id": "509298dc",
   "metadata": {},
   "source": [
    "# Basic Level"
   ]
  },
  {
   "cell_type": "markdown",
   "id": "e698eb1f",
   "metadata": {},
   "source": [
    "1. Write a Python program to print the numbers from 1 to 10 using a `for` loop."
   ]
  },
  {
   "cell_type": "code",
   "execution_count": 1,
   "id": "262abffe",
   "metadata": {},
   "outputs": [
    {
     "name": "stdout",
     "output_type": "stream",
     "text": [
      "1\n",
      "2\n",
      "3\n",
      "4\n",
      "5\n",
      "6\n",
      "7\n",
      "8\n",
      "9\n",
      "10\n"
     ]
    }
   ],
   "source": [
    "for num in range(1,11):\n",
    "    print(num)"
   ]
  },
  {
   "cell_type": "markdown",
   "id": "7767d274",
   "metadata": {},
   "source": [
    "2. Create a program that calculates the sum of all numbers in a list using a `for` loop."
   ]
  },
  {
   "cell_type": "code",
   "execution_count": 4,
   "id": "d65d635c",
   "metadata": {},
   "outputs": [
    {
     "name": "stdout",
     "output_type": "stream",
     "text": [
      "Enter the number of elements into the list: 4\n",
      "1\n",
      "2\n",
      "3\n",
      "4\n",
      "The sum of all numbers in a list is 10\n"
     ]
    }
   ],
   "source": [
    "lst=[]\n",
    "sum=0\n",
    "num=int(input('Enter the number of elements into the list: '))\n",
    "for i in range(0,num):\n",
    "    ele=int(input())\n",
    "    lst.append(ele)\n",
    "for index in range(0,len(lst)):\n",
    "    sum+=lst[index]\n",
    "print('The sum of all numbers in a list is',sum)"
   ]
  },
  {
   "cell_type": "markdown",
   "id": "f170a479",
   "metadata": {},
   "source": [
    "3. Write a program to print the characters of a string in reverse order using a `for` loop."
   ]
  },
  {
   "cell_type": "code",
   "execution_count": 9,
   "id": "059a03e6",
   "metadata": {},
   "outputs": [
    {
     "name": "stdout",
     "output_type": "stream",
     "text": [
      "enter a stringhello\n",
      "The characters of a string in reverse order is\n",
      "o l l e h "
     ]
    }
   ],
   "source": [
    "string=str(input('enter a string'))\n",
    "print('The characters of a string in reverse order is')\n",
    "for i in string[::-1]:\n",
    "    print(i,end=' ')"
   ]
  },
  {
   "cell_type": "markdown",
   "id": "bb191d49",
   "metadata": {},
   "source": [
    "4. Develop a program that finds the factorial of a given number using a `for` loop."
   ]
  },
  {
   "cell_type": "code",
   "execution_count": 16,
   "id": "a10d6df4",
   "metadata": {},
   "outputs": [
    {
     "name": "stdout",
     "output_type": "stream",
     "text": [
      "enter a number for factorial: 5\n",
      "The factorial of 5 is 120\n"
     ]
    }
   ],
   "source": [
    "num=int(input('enter a number for factorial: '))\n",
    "total=1\n",
    "for i in range(num,0,-1):\n",
    "    total=total*i\n",
    "print(f'The factorial of {num} is {total}')\n",
    "    "
   ]
  },
  {
   "cell_type": "markdown",
   "id": "bc52685b",
   "metadata": {},
   "source": [
    "5. Create a program to print the multiplication table of a given number using a `for` loop."
   ]
  },
  {
   "cell_type": "code",
   "execution_count": 19,
   "id": "608484a6",
   "metadata": {},
   "outputs": [
    {
     "name": "stdout",
     "output_type": "stream",
     "text": [
      "Enter the number for multiplication table24\n",
      "The multiplication table of 24 is\n",
      "24 * 1 = 24\n",
      "24 * 2 = 48\n",
      "24 * 3 = 72\n",
      "24 * 4 = 96\n",
      "24 * 5 = 120\n",
      "24 * 6 = 144\n",
      "24 * 7 = 168\n",
      "24 * 8 = 192\n",
      "24 * 9 = 216\n",
      "24 * 10 = 240\n"
     ]
    }
   ],
   "source": [
    "num=int(input('Enter the number for multiplication table'))\n",
    "print('The multiplication table of',num,'is')\n",
    "for i in range(1,11):\n",
    "    print(num,'*',i,'=',num*i)"
   ]
  },
  {
   "cell_type": "markdown",
   "id": "b00469b6",
   "metadata": {},
   "source": [
    "6. Write a program that counts the number of even and odd numbers in a list using a `for` loop."
   ]
  },
  {
   "cell_type": "code",
   "execution_count": 23,
   "id": "4666ff30",
   "metadata": {},
   "outputs": [
    {
     "name": "stdout",
     "output_type": "stream",
     "text": [
      "enter the number of element to be added to the list: 5\n",
      "12\n",
      "14\n",
      "16\n",
      "17\n",
      "21\n",
      "the number of odd numbers in list is 2\n",
      "the number of even numbers in list is 3\n"
     ]
    }
   ],
   "source": [
    "lst=[]\n",
    "odd=0\n",
    "even=0\n",
    "num=int(input('enter the number of element to be added to the list: '))\n",
    "for i in range(0,num):\n",
    "    ele=int(input())\n",
    "    lst.append(ele)\n",
    "for index in range(0,len(lst)):\n",
    "    if(lst[index]%2==0):\n",
    "        even+=1\n",
    "    else:\n",
    "        odd+=1\n",
    "print('the number of odd numbers in list is',odd)\n",
    "print('the number of even numbers in list is',even)"
   ]
  },
  {
   "cell_type": "markdown",
   "id": "032467cb",
   "metadata": {},
   "source": [
    "7. Develop a program that prints the squares of numbers from 1 to 5 using a `for` loop."
   ]
  },
  {
   "cell_type": "code",
   "execution_count": 25,
   "id": "abe2357b",
   "metadata": {},
   "outputs": [
    {
     "name": "stdout",
     "output_type": "stream",
     "text": [
      "the square of 1 is 1\n",
      "the square of 2 is 4\n",
      "the square of 3 is 9\n",
      "the square of 4 is 16\n",
      "the square of 5 is 25\n"
     ]
    }
   ],
   "source": [
    "for i in range(1,6):\n",
    "    print(f'the square of {i} is',i**2)"
   ]
  },
  {
   "cell_type": "markdown",
   "id": "963be4e2",
   "metadata": {},
   "source": [
    "8. Create a program to find the length of a string without using the `len()` function."
   ]
  },
  {
   "cell_type": "code",
   "execution_count": 4,
   "id": "fa435d41",
   "metadata": {},
   "outputs": [
    {
     "name": "stdout",
     "output_type": "stream",
     "text": [
      "enter the string: dazzlement\n",
      "The length of the string is 10\n"
     ]
    }
   ],
   "source": [
    "string=str(input('enter the string: '))\n",
    "count=0\n",
    "for i in string:\n",
    "    count+=1\n",
    "print('The length of the string is',count)"
   ]
  },
  {
   "cell_type": "markdown",
   "id": "5e7a7810",
   "metadata": {},
   "source": [
    "9. Write a program that calculates the average of a list of numbers using a `for` loop."
   ]
  },
  {
   "cell_type": "code",
   "execution_count": 1,
   "id": "5ac0cb00",
   "metadata": {},
   "outputs": [
    {
     "name": "stdout",
     "output_type": "stream",
     "text": [
      "enter the number of element to be added to the list: 4\n",
      "The list numbers are\n",
      "50\n",
      "22\n",
      "20\n",
      "8\n",
      "The average of the list is 25.0\n"
     ]
    }
   ],
   "source": [
    "lst=[]\n",
    "sum=0\n",
    "num=int(input('enter the number of element to be added to the list: '))\n",
    "print('The list numbers are')\n",
    "for i in range(0,num):\n",
    "    ele=int(input())\n",
    "    lst.append(ele)\n",
    "for index in range(0,len(lst)):\n",
    "    sum+=lst[index]\n",
    "avg=sum/len(lst)\n",
    "print('The average of the list is',avg)"
   ]
  },
  {
   "cell_type": "markdown",
   "id": "aebe4b09",
   "metadata": {},
   "source": [
    "10. Develop a program that prints the first `n` Fibonacci numbers using a `for` loop."
   ]
  },
  {
   "cell_type": "code",
   "execution_count": 8,
   "id": "c8bc0c74",
   "metadata": {},
   "outputs": [
    {
     "name": "stdout",
     "output_type": "stream",
     "text": [
      "enter the number of element: 10\n",
      "0 1 1 2 3 5 8 13 21 34 "
     ]
    }
   ],
   "source": [
    "fib=int(input('enter the number of element: '))\n",
    "n1=0\n",
    "n2=1\n",
    "print(n1,n2,end=' ')\n",
    "for i in range(2,fib):\n",
    "    n3=n1+n2\n",
    "    print(n3,end=' ')\n",
    "    n1=n2\n",
    "    n2=n3"
   ]
  },
  {
   "cell_type": "markdown",
   "id": "df20cc17",
   "metadata": {},
   "source": [
    "# Intermediate Level"
   ]
  },
  {
   "cell_type": "markdown",
   "id": "a03a83b2",
   "metadata": {},
   "source": [
    "11. Write a program to check if a given list contains any duplicates using a `for` loop."
   ]
  },
  {
   "cell_type": "code",
   "execution_count": 17,
   "id": "76bfacf1",
   "metadata": {},
   "outputs": [
    {
     "name": "stdout",
     "output_type": "stream",
     "text": [
      "enter the number of elements to be added to the list: 10\n",
      "The list elements are\n",
      "1\n",
      "2\n",
      "3\n",
      "1\n",
      "5\n",
      "3\n",
      "7\n",
      "9\n",
      "7\n",
      "4\n",
      "[1, 2, 3, 1, 5, 3, 7, 9, 7, 4]\n",
      "The list of duplicate numbers are: [1, 3, 7]\n"
     ]
    }
   ],
   "source": [
    "lst=[]\n",
    "unique=[]\n",
    "duplicate=[]\n",
    "num=int(input('enter the number of elements to be added to the list: '))\n",
    "print('The list elements are')\n",
    "for i in range(0,num):\n",
    "    ele=int(input())\n",
    "    lst.append(ele)\n",
    "print(lst)\n",
    "for ele in lst:\n",
    "    if ele not in unique:\n",
    "        unique.append(ele)\n",
    "    elif ele not in duplicate:\n",
    "        duplicate.append(ele)\n",
    "print('The list of duplicate numbers are:',duplicate)"
   ]
  },
  {
   "cell_type": "markdown",
   "id": "14acb805",
   "metadata": {},
   "source": [
    "12. Create a program that prints the prime numbers in a given range using a `for` loop."
   ]
  },
  {
   "cell_type": "code",
   "execution_count": 20,
   "id": "79737a8c",
   "metadata": {},
   "outputs": [
    {
     "name": "stdout",
     "output_type": "stream",
     "text": [
      "enter the upper bound1\n",
      "enter the lower bound15\n",
      "The prime numbers between 1 and 15 are:\n",
      "2 3 5 7 11 13 "
     ]
    }
   ],
   "source": [
    "start=int(input('enter the upper bound'))\n",
    "stop=int(input('enter the lower bound'))\n",
    "print(f'The prime numbers between {start} and {stop} are:')\n",
    "for val in range(start,stop+1):\n",
    "    if val==1:\n",
    "        continue\n",
    "    if val>1:\n",
    "        for i in range(2,val):\n",
    "            if(val%i==0):\n",
    "                break\n",
    "        else:\n",
    "            print(val,end=' ')"
   ]
  },
  {
   "cell_type": "markdown",
   "id": "9b94a351",
   "metadata": {},
   "source": [
    "13. Develop a program that counts the number of vowels in a string using a `for` loop."
   ]
  },
  {
   "cell_type": "code",
   "execution_count": 24,
   "id": "81de4464",
   "metadata": {},
   "outputs": [
    {
     "name": "stdout",
     "output_type": "stream",
     "text": [
      "enter a string: hello\n",
      "2\n"
     ]
    }
   ],
   "source": [
    "string=str.lower(input('enter a string: '))\n",
    "count=0\n",
    "for i in string:\n",
    "    if(i=='a' or i=='e' or i=='i' or i=='o' or i=='u'):\n",
    "        count+=1\n",
    "print(count)"
   ]
  },
  {
   "cell_type": "markdown",
   "id": "5c792804",
   "metadata": {},
   "source": [
    "14. Write a program to find the maximum element in a 2D list using a nested `for` loop."
   ]
  },
  {
   "cell_type": "code",
   "execution_count": 2,
   "id": "0bf2af51",
   "metadata": {},
   "outputs": [
    {
     "name": "stdout",
     "output_type": "stream",
     "text": [
      "The original list: [[1, 2, 3, 4, 5], [20, 21, 22, 23, 24], [62, 63, 61, 60], [8, 9, 10, 11]]\n",
      "The maximum element in this 2d list: 63\n"
     ]
    }
   ],
   "source": [
    "def max_ele(arr):\n",
    "    max = arr[0][0]\n",
    "    for i in range(len(arr)):\n",
    "        for j in range(len(arr[i])):\n",
    "            if arr[i][j] > max:\n",
    "                max = arr[i][j]\n",
    "\n",
    "    return max\n",
    "\n",
    "arr=[[1,2,3,4,5],[20,21,22,23,24],[62,63,61,60],[8,9,10,11]]\n",
    "res=max_ele(arr)\n",
    "print('The original list:',arr)\n",
    "print('The maximum element in this 2d list:',res)\n"
   ]
  },
  {
   "cell_type": "markdown",
   "id": "3bb325f6",
   "metadata": {},
   "source": [
    "15. Create a program that removes all occurrences of a specific element from a list using a `for` loop."
   ]
  },
  {
   "cell_type": "code",
   "execution_count": 5,
   "id": "f0102bbd",
   "metadata": {},
   "outputs": [
    {
     "name": "stdout",
     "output_type": "stream",
     "text": [
      "The original list: [10, 20, 10, 30, 10, 40, 10, 50, 60, 10, 70, 10]\n",
      "After removing all 10 from the list, new list: [20, 30, 40, 50, 60, 70]\n"
     ]
    }
   ],
   "source": [
    "lst=[10, 20, 10, 30, 10, 40, 10, 50,60,10,70,10]\n",
    "print('The original list:',lst)\n",
    "ele=10\n",
    "for i in lst:\n",
    "    if ele==i:\n",
    "        lst.remove(i)\n",
    "print(f'After removing all {ele} from the list, new list:',lst)"
   ]
  },
  {
   "cell_type": "markdown",
   "id": "f29b31db",
   "metadata": {},
   "source": [
    "16. Develop a program that generates a multiplication table for numbers from 1 to 5 using a nested `for` loop."
   ]
  },
  {
   "cell_type": "code",
   "execution_count": 25,
   "id": "81966a35",
   "metadata": {},
   "outputs": [
    {
     "name": "stdout",
     "output_type": "stream",
     "text": [
      "\n",
      "The multiplication table of 1 is \n",
      "1*1=1\n",
      "1*2=2\n",
      "1*3=3\n",
      "1*4=4\n",
      "1*5=5\n",
      "1*6=6\n",
      "1*7=7\n",
      "1*8=8\n",
      "1*9=9\n",
      "1*10=10\n",
      "\n",
      "The multiplication table of 2 is \n",
      "2*1=2\n",
      "2*2=4\n",
      "2*3=6\n",
      "2*4=8\n",
      "2*5=10\n",
      "2*6=12\n",
      "2*7=14\n",
      "2*8=16\n",
      "2*9=18\n",
      "2*10=20\n",
      "\n",
      "The multiplication table of 3 is \n",
      "3*1=3\n",
      "3*2=6\n",
      "3*3=9\n",
      "3*4=12\n",
      "3*5=15\n",
      "3*6=18\n",
      "3*7=21\n",
      "3*8=24\n",
      "3*9=27\n",
      "3*10=30\n",
      "\n",
      "The multiplication table of 4 is \n",
      "4*1=4\n",
      "4*2=8\n",
      "4*3=12\n",
      "4*4=16\n",
      "4*5=20\n",
      "4*6=24\n",
      "4*7=28\n",
      "4*8=32\n",
      "4*9=36\n",
      "4*10=40\n",
      "\n",
      "The multiplication table of 5 is \n",
      "5*1=5\n",
      "5*2=10\n",
      "5*3=15\n",
      "5*4=20\n",
      "5*5=25\n",
      "5*6=30\n",
      "5*7=35\n",
      "5*8=40\n",
      "5*9=45\n",
      "5*10=50\n"
     ]
    }
   ],
   "source": [
    "for num in range(1,6):\n",
    "    print()\n",
    "    print(f'The multiplication table of {num} is ')\n",
    "    for i in range(1,11):\n",
    "        print(f'{num}*{i}={num*i}')"
   ]
  },
  {
   "cell_type": "markdown",
   "id": "743d88d1",
   "metadata": {},
   "source": [
    "17. Write a program that converts a list of Fahrenheit temperatures to Celsius using a `for` loop."
   ]
  },
  {
   "cell_type": "code",
   "execution_count": 27,
   "id": "6808becd",
   "metadata": {},
   "outputs": [
    {
     "name": "stdout",
     "output_type": "stream",
     "text": [
      "number a of elements to be added: 5\n",
      "the list of Fahrenheit temperatures are:\n",
      "89\n",
      "90\n",
      "93\n",
      "97\n",
      "101\n",
      "the celsius temperatures are [31, 32, 33, 36, 38]\n"
     ]
    }
   ],
   "source": [
    "fah=[]\n",
    "cel=[]\n",
    "num=int(input('number a of elements to be added: '))\n",
    "print('the list of Fahrenheit temperatures are:')\n",
    "for i in range(0,num):\n",
    "    ele=int(input())\n",
    "    fah.append(ele)\n",
    "for i in range(0,len(fah)):\n",
    "    c=((fah[i]-32)*5)//9\n",
    "    cel.append(c)\n",
    "print(f'the celsius temperatures are {cel}')"
   ]
  },
  {
   "cell_type": "markdown",
   "id": "755f8f7d",
   "metadata": {},
   "source": [
    "18. Create a program to print the common elements from two lists using a `for` loop."
   ]
  },
  {
   "cell_type": "code",
   "execution_count": 2,
   "id": "109cd3df",
   "metadata": {},
   "outputs": [
    {
     "name": "stdout",
     "output_type": "stream",
     "text": [
      "number of elements to be added to the list1: 5\n",
      "List1 elements are: \n",
      "12\n",
      "13\n",
      "15\n",
      "14\n",
      "16\n",
      "number of elements to be added to the list2: 4\n",
      "List2 elements are: \n",
      "14\n",
      "18\n",
      "12\n",
      "19\n",
      "The common element between two list are [12, 14]\n"
     ]
    }
   ],
   "source": [
    "list1=[]\n",
    "list2=[]\n",
    "newlist=[]\n",
    "num1=int(input('number of elements to be added to the list1: '))\n",
    "print('List1 elements are: ')\n",
    "for i in range(0,num1):\n",
    "    ele1=int(input())\n",
    "    list1.append(ele1)\n",
    "num2=int(input('number of elements to be added to the list2: '))\n",
    "print('List2 elements are: ')\n",
    "for e in range(0,num2):\n",
    "    ele2=int(input())\n",
    "    list2.append(ele2)\n",
    "for a in range(0,len(list1)):\n",
    "    for j in range(0,len(list2)):\n",
    "        if list1[a]==list2[j]:\n",
    "            newlist.append(list1[a])\n",
    "print(f'The common element between two list are {newlist}')"
   ]
  },
  {
   "cell_type": "markdown",
   "id": "07077bb9",
   "metadata": {},
   "source": [
    "19. Develop a program that prints the pattern of right-angled triangles using a `for` loop. Use ‘*’ to draw the\n",
    "pattern."
   ]
  },
  {
   "cell_type": "code",
   "execution_count": 1,
   "id": "8578259d",
   "metadata": {},
   "outputs": [
    {
     "name": "stdout",
     "output_type": "stream",
     "text": [
      "Enter the number row to be printed:5\n",
      "*\n",
      "**\n",
      "***\n",
      "****\n",
      "*****\n"
     ]
    }
   ],
   "source": [
    "star=int(input('Enter the number row to be printed:'))\n",
    "for i in range(1,star+1):\n",
    "    print('*'*i)"
   ]
  },
  {
   "cell_type": "markdown",
   "id": "c9618323",
   "metadata": {},
   "source": [
    "20. Write a program to find the greatest common divisor (GCD) of two numbers using a `for` loop."
   ]
  },
  {
   "cell_type": "code",
   "execution_count": 4,
   "id": "16acc8ed",
   "metadata": {},
   "outputs": [
    {
     "name": "stdout",
     "output_type": "stream",
     "text": [
      "enter the first number: 15\n",
      "enter the second number: 20\n",
      "The GCD of 15 and 20 is 5\n"
     ]
    }
   ],
   "source": [
    "first_num=int(input('enter the first number: '))\n",
    "second_num=int(input('enter the second number: '))\n",
    "if first_num>second_num:\n",
    "    first_num,second_num=second_num,first_num\n",
    "for i in range(1,first_num+1):\n",
    "    if first_num%i==0 and second_num%i==0:\n",
    "        gcd=i\n",
    "print(f'The GCD of {first_num} and {second_num} is {gcd}')"
   ]
  },
  {
   "cell_type": "markdown",
   "id": "f9d389d5",
   "metadata": {},
   "source": [
    "# Advanced level"
   ]
  },
  {
   "cell_type": "markdown",
   "id": "60b5c350",
   "metadata": {},
   "source": [
    "21. Create a program that calculates the sum of the digits of numbers in a list using a list comprehension."
   ]
  },
  {
   "cell_type": "code",
   "execution_count": 5,
   "id": "c32b73b2",
   "metadata": {},
   "outputs": [
    {
     "name": "stdout",
     "output_type": "stream",
     "text": [
      "Enter the number of element to be added to the list4\n",
      "11\n",
      "67\n",
      "34\n",
      "89\n",
      "The sum of the digits of the numbers are: [2, 13, 7, 17]\n"
     ]
    }
   ],
   "source": [
    "lst=[]\n",
    "num=int(input('Enter the number of element to be added to the list'))\n",
    "for i in range(0,num):\n",
    "    ele=int(input())\n",
    "    lst.append(ele)\n",
    "sum=[sum([int(y) for y in str(x)]) for x in lst]\n",
    "print('The sum of the digits of the numbers are:',sum)"
   ]
  },
  {
   "cell_type": "markdown",
   "id": "16aab8e2",
   "metadata": {},
   "source": [
    "22. Write a program to find the prime factors of a given number using a `for` loop and list comprehension."
   ]
  },
  {
   "cell_type": "code",
   "execution_count": 7,
   "id": "05d08c4a",
   "metadata": {},
   "outputs": [
    {
     "name": "stdout",
     "output_type": "stream",
     "text": [
      "Enter a number:315\n",
      "The prime factors are: [3, 5, 7, 3, 5, 7]\n"
     ]
    }
   ],
   "source": [
    "num=int(input('Enter a number:'))\n",
    "prime_factors = [i for i in range(2, num+1) if num%i == 0 and all(i % j != 0 for j in range(2, int(i**0.5)+1))]\n",
    "factors = []\n",
    "while num > 1:\n",
    "    for factor in prime_factors:\n",
    "        factors.append(factor)\n",
    "        num //= factor\n",
    "print('The prime factors are:',factors)"
   ]
  },
  {
   "cell_type": "markdown",
   "id": "9e5d2357",
   "metadata": {},
   "source": [
    "23. Develop a program that extracts unique elements from a list and stores them in a new list using a list comprehension."
   ]
  },
  {
   "cell_type": "code",
   "execution_count": 9,
   "id": "28a06bbe",
   "metadata": {},
   "outputs": [
    {
     "name": "stdout",
     "output_type": "stream",
     "text": [
      "enter the number of element to be added to the list: 10\n",
      "1\n",
      "2\n",
      "3\n",
      "2\n",
      "4\n",
      "1\n",
      "5\n",
      "4\n",
      "2\n",
      "6\n",
      "The unique elements from a list is: [1, 2, 3, 4, 5, 6]\n"
     ]
    }
   ],
   "source": [
    "lst=[]\n",
    "num=int(input('enter the number of element to be added to the list: '))\n",
    "for i in range(0,num):\n",
    "    ele=int(input())\n",
    "    lst.append(ele)\n",
    "unique_list=[]\n",
    "[unique_list.append(x) for x in lst if x not in unique_list]\n",
    "print('The unique elements from a list is:',unique_list)"
   ]
  },
  {
   "cell_type": "markdown",
   "id": "3049856a",
   "metadata": {},
   "source": [
    "24. Create a program that generates a list of all palindromic numbers up to a specified limit using a list comprehension."
   ]
  },
  {
   "cell_type": "code",
   "execution_count": 1,
   "id": "bc30e718",
   "metadata": {},
   "outputs": [
    {
     "name": "stdout",
     "output_type": "stream",
     "text": [
      "Enter a limit: 100\n",
      "The palindrome numbers upto 100: [0, 1, 2, 3, 4, 5, 6, 7, 8, 9, 11, 22, 33, 44, 55, 66, 77, 88, 99]\n"
     ]
    }
   ],
   "source": [
    "num_range=int(input('Enter a limit: '))\n",
    "palindrome=[int(x) for x in range(num_range+1) if str(x)==str(x)[::-1] ]\n",
    "print(f'The palindrome numbers upto {num_range}:',palindrome)"
   ]
  },
  {
   "cell_type": "markdown",
   "id": "45654e18",
   "metadata": {},
   "source": [
    "25. Write a program to flatten a nested list using list comprehension."
   ]
  },
  {
   "cell_type": "code",
   "execution_count": 10,
   "id": "834bf42e",
   "metadata": {},
   "outputs": [
    {
     "name": "stdout",
     "output_type": "stream",
     "text": [
      "Enter the size of the list: 4\n",
      "Enter the size of the sublist: 3\n",
      "1\n",
      "2\n",
      "3\n",
      "hello\n",
      "hi\n",
      "bye\n",
      "4\n",
      "priya\n",
      "ok\n",
      "5\n",
      "6\n",
      "7\n",
      "The original nested list is: [['1', '2', '3'], ['hello', 'hi', 'bye'], ['4', 'priya', 'ok'], ['5', '6', '7']]\n",
      "The flat list is: ['1', '2', '3', 'hello', 'hi', 'bye', '4', 'priya', 'ok', '5', '6', '7']\n"
     ]
    }
   ],
   "source": [
    "x=int(input('Enter the size of the list: '))\n",
    "y=int(input('Enter the size of the sublist: '))\n",
    "my_list=[]\n",
    "sub_list=[]\n",
    "for i in range(0,x):\n",
    "    for j in range(0,y):\n",
    "        sub_list.append(input())\n",
    "    my_list.append(sub_list)\n",
    "    sub_list=[]\n",
    "print('The original nested list is:',my_list)\n",
    "flat_list=[num for sub in my_list for num in sub]\n",
    "print('The flat list is:',flat_list)"
   ]
  },
  {
   "cell_type": "markdown",
   "id": "d7777540",
   "metadata": {},
   "source": [
    "26. Develop a program that computes the sum of even and odd numbers in a list separately using list comprehension."
   ]
  },
  {
   "cell_type": "code",
   "execution_count": 2,
   "id": "4cad8bf4",
   "metadata": {},
   "outputs": [
    {
     "name": "stdout",
     "output_type": "stream",
     "text": [
      "The sum of all odd numbers in this list: 63\n",
      "The sum of all even numbers in this list: 72\n"
     ]
    }
   ],
   "source": [
    "num_lst=[2,3,4,5,6,7,8,9,10,11,12,13,14,15,16]\n",
    "total=0\n",
    "odd_sum=sum([x for x in num_lst if x%2!=0])\n",
    "even_sum=sum([x for x in num_lst if x%2==0])\n",
    "print('The sum of all odd numbers in this list:',odd_sum)\n",
    "print('The sum of all even numbers in this list:',even_sum)"
   ]
  },
  {
   "cell_type": "markdown",
   "id": "eeef91f1",
   "metadata": {},
   "source": [
    "27. Create a program that generates a list of squares of odd numbers between 1 and 10 using list\n",
    "comprehension."
   ]
  },
  {
   "cell_type": "code",
   "execution_count": 1,
   "id": "3038d0c5",
   "metadata": {},
   "outputs": [
    {
     "name": "stdout",
     "output_type": "stream",
     "text": [
      "The program that generates a list of squares of odd numbers between 1 and 10 [1, 9, 25, 49, 81]\n"
     ]
    }
   ],
   "source": [
    "square_lst=[num**2 for num in range(1,11) if num%2!=0]\n",
    "print('The program that generates a list of squares of odd numbers between 1 and 10',square_lst)"
   ]
  },
  {
   "cell_type": "markdown",
   "id": "c83229eb",
   "metadata": {},
   "source": [
    "28. Write a program that combines two lists into a dictionary using list comprehension."
   ]
  },
  {
   "cell_type": "code",
   "execution_count": null,
   "id": "6652968f",
   "metadata": {},
   "outputs": [],
   "source": [
    "name=['sudhansu','kris','priya']\n",
    "value=[1,2,3]\n",
    "new_dict={name[i]:value[i] for i in range(len(name))}\n",
    "print('The dictionary after combining two lists:',new_dict)"
   ]
  },
  {
   "cell_type": "markdown",
   "id": "7822859d",
   "metadata": {},
   "source": [
    "29. Develop a program that extracts the vowels from a string and stores them in a list using list comprehension."
   ]
  },
  {
   "cell_type": "code",
   "execution_count": 4,
   "id": "9f7a9d47",
   "metadata": {},
   "outputs": [
    {
     "name": "stdout",
     "output_type": "stream",
     "text": [
      "Enter a string:That girl child is so pretty\n",
      "After extracting the vowels from that list: ['a', 'i', 'i', 'i', 'o', 'e']\n"
     ]
    }
   ],
   "source": [
    "string=input('Enter a string:').lower()\n",
    "lst=[vow for vow in string if vow=='a' or vow=='e' or vow=='i' or vow=='o' or vow=='u']\n",
    "print('After extracting the vowels from that list:',lst)"
   ]
  },
  {
   "cell_type": "markdown",
   "id": "4669a91c",
   "metadata": {},
   "source": [
    "30. Create a program that removes all non-numeric characters from a list of strings using list comprehension."
   ]
  },
  {
   "cell_type": "code",
   "execution_count": 14,
   "id": "0f46692c",
   "metadata": {},
   "outputs": [
    {
     "name": "stdout",
     "output_type": "stream",
     "text": [
      "Original list of strings: ['abc123', '456def', '7ghi', 'jkl8', 'msd07', 'srt10', 'vk18']\n",
      "List with non-numeric characters removed: ['123', '456', '7', '8', '07', '10', '18']\n"
     ]
    }
   ],
   "source": [
    "string_list=['abc123','456def', '7ghi','jkl8','msd07','srt10','vk18']\n",
    "numeric_only_list = [''.join(char for char in s if char.isdigit()) for s in string_list]\n",
    "\n",
    "print(\"Original list of strings:\", string_list)\n",
    "print(\"List with non-numeric characters removed:\", numeric_only_list)"
   ]
  },
  {
   "cell_type": "markdown",
   "id": "fb11bf43",
   "metadata": {},
   "source": [
    "# Challenge Level:"
   ]
  },
  {
   "cell_type": "markdown",
   "id": "115d0727",
   "metadata": {},
   "source": [
    "31. Write a program to generate a list of prime numbers using the Sieve of Eratosthenes algorithm and list\n",
    "comprehension."
   ]
  },
  {
   "cell_type": "code",
   "execution_count": 15,
   "id": "d8f1bf96",
   "metadata": {},
   "outputs": [
    {
     "name": "stdout",
     "output_type": "stream",
     "text": [
      "Prime numbers up to 100 : [2, 3, 5, 7, 11, 13, 17, 19, 23, 29, 31, 37, 41, 43, 47, 53, 59, 61, 67, 71, 73, 79, 83, 89, 97]\n"
     ]
    }
   ],
   "source": [
    "def sieve_of_eratosthenes(limit):\n",
    "    \n",
    "    is_prime = [True] * (limit + 1)\n",
    "    is_prime[0] = is_prime[1] = False\n",
    "\n",
    "    \n",
    "    for number in range(2, int(limit**0.5) + 1):\n",
    "        if is_prime[number]:\n",
    "            is_prime[number * number : limit + 1 : number] = [False] * len(range(number * number, limit + 1, number))\n",
    "\n",
    "    primes = [number for number in range(2, limit + 1) if is_prime[number]]\n",
    "\n",
    "    return primes\n",
    "\n",
    "limit = 100\n",
    "prime_numbers = sieve_of_eratosthenes(limit)\n",
    "print(\"Prime numbers up to\", limit, \":\", prime_numbers)"
   ]
  },
  {
   "cell_type": "markdown",
   "id": "7f63bd1f",
   "metadata": {},
   "source": [
    "32. Create a program that generates a list of all Pythagorean triplets up to a specified limit using list\n",
    "comprehension."
   ]
  },
  {
   "cell_type": "code",
   "execution_count": 2,
   "id": "3c97d88d",
   "metadata": {},
   "outputs": [
    {
     "name": "stdout",
     "output_type": "stream",
     "text": [
      "Enter a limit to get the pythogorean triplet: 30\n",
      "All pythogorean triplet upto 30 is: [(3, 4, 5), (5, 12, 13), (6, 8, 10), (7, 24, 25), (8, 15, 17), (9, 12, 15), (10, 24, 26), (12, 16, 20), (15, 20, 25), (20, 21, 29)]\n"
     ]
    }
   ],
   "source": [
    "limit=int(input('Enter a limit to get the pythogorean triplet: '))\n",
    "pythg=[(x,y,z) for x in range(1,limit) for y in range(x,limit) for z in range(y,limit) if x**2+y**2==z**2]\n",
    "print(f'All pythogorean triplet upto {limit} is:',pythg)"
   ]
  },
  {
   "cell_type": "markdown",
   "id": "76e607f2",
   "metadata": {},
   "source": [
    "33. Develop a program that generates a list of all possible combinations of two lists using list comprehension."
   ]
  },
  {
   "cell_type": "code",
   "execution_count": 6,
   "id": "34688922",
   "metadata": {},
   "outputs": [
    {
     "name": "stdout",
     "output_type": "stream",
     "text": [
      "All unique combination from both the list: [(1, 'a'), (1, 'b'), (1, 'c'), (2, 'a'), (2, 'b'), (2, 'c'), (3, 'a'), (3, 'b'), (3, 'c')]\n"
     ]
    }
   ],
   "source": [
    "list1=[1,2,3]\n",
    "list2=['a','b','c']\n",
    "\n",
    "combination=[(x,y) for x in list1 for y in list2]\n",
    "\n",
    "print('All unique combination from both the list:',combination)"
   ]
  },
  {
   "cell_type": "markdown",
   "id": "a68cfe6d",
   "metadata": {},
   "source": [
    "34. Write a program that calculates the mean, median, and mode of a list of numbers using list\n",
    "comprehension."
   ]
  },
  {
   "cell_type": "code",
   "execution_count": 11,
   "id": "e8909656",
   "metadata": {},
   "outputs": [
    {
     "name": "stdout",
     "output_type": "stream",
     "text": [
      "The mean of [2, 3, 5, 1, 4] is: 3.0\n",
      "The median of [2, 3, 5, 1, 4] is: 3\n",
      "The mode of [1, 2, 3, 1, 2, 2, 4, 4, 4, 5, 1, 5, 5, 6, 5, 6, 7, 5, 3] is: 5\n"
     ]
    }
   ],
   "source": [
    "from collections import Counter\n",
    "num=[2,3,5,1,4]\n",
    "#mean\n",
    "get_mean=sum([n for n in num])/len(num)\n",
    "print(f'The mean of {num} is:',get_mean)\n",
    "#meadian\n",
    "sort_list=sorted(num)\n",
    "n=len(num)\n",
    "mid=n//2\n",
    "\n",
    "median_val=(sort_list[mid]+sort_list[mid-1] if n%2==0 else sort_list[mid])\n",
    "print(f'The median of {num} is:',median_val)\n",
    "\n",
    "#mode\n",
    "elements=[1,2,3,1,2,2,4,4,4,5,1,5,5,6,5,6,7,5,3]\n",
    "get_mode=max((item for item,count in Counter(elements).items()),key=lambda x:Counter(elements)[x])\n",
    "print(f'The mode of {elements} is:',get_mode)"
   ]
  },
  {
   "cell_type": "markdown",
   "id": "d22746e6",
   "metadata": {},
   "source": [
    "35. Create a program that generates Pascal's triangle up to a specified number of rows using list\n",
    "comprehension."
   ]
  },
  {
   "cell_type": "code",
   "execution_count": 13,
   "id": "e15fc828",
   "metadata": {},
   "outputs": [
    {
     "name": "stdout",
     "output_type": "stream",
     "text": [
      "All Pascals triangle upto 5:\n",
      "[1]\n",
      "[1, 1]\n",
      "[1, 2, 1]\n",
      "[1, 3, 3, 1]\n",
      "[1, 4, 6, 4, 1]\n"
     ]
    }
   ],
   "source": [
    "def generate_pascals_triangle(num_rows):\n",
    "    triangle = [[1] * (row + 1) for row in range(num_rows)]\n",
    "    \n",
    "    for i in range(2, num_rows):\n",
    "        for j in range(1, i):\n",
    "            triangle[i][j] = triangle[i - 1][j - 1] + triangle[i - 1][j]\n",
    "\n",
    "    return triangle\n",
    "\n",
    "def print_pascals_triangle(triangle):\n",
    "    for row in triangle:\n",
    "        print(row)\n",
    "        \n",
    "num_rows = 5\n",
    "\n",
    "print(f'All Pascals triangle upto {num_rows}:')\n",
    "pascals_triangle = generate_pascals_triangle(num_rows)\n",
    "print_pascals_triangle(pascals_triangle)"
   ]
  },
  {
   "cell_type": "markdown",
   "id": "505bdd2b",
   "metadata": {},
   "source": [
    "36. Develop a program that calculates the sum of the digits of a factorial of numbers from 1 to 5 using list\n",
    "comprehension."
   ]
  },
  {
   "cell_type": "code",
   "execution_count": 3,
   "id": "57b648e9",
   "metadata": {},
   "outputs": [
    {
     "name": "stdout",
     "output_type": "stream",
     "text": [
      "list of sum of digits of factorials from 1 to 5 is: [1, 2, 6, 6, 3]\n"
     ]
    }
   ],
   "source": [
    "def factorial(n):\n",
    "    return 1 if n==0 or n==1 else n*factorial(n-1)\n",
    "\n",
    "sum_of_digits=[sum(int(digit) for digit in str(factorial(num))) for num in range(1,6)]\n",
    "\n",
    "print('list of sum of digits of factorials from 1 to 5 is:',sum_of_digits)"
   ]
  },
  {
   "cell_type": "markdown",
   "id": "ba8e7319",
   "metadata": {},
   "source": [
    "37. Write a program that finds the longest word in a sentence using list comprehension."
   ]
  },
  {
   "cell_type": "code",
   "execution_count": 5,
   "id": "69e4a912",
   "metadata": {},
   "outputs": [
    {
     "name": "stdout",
     "output_type": "stream",
     "text": [
      "The longest word in this string: sentence\n"
     ]
    }
   ],
   "source": [
    "string='This is an example sentence of the longest word'\n",
    "string_list=string.split()\n",
    "\n",
    "long_word=[len(word) for word in string_list]\n",
    "\n",
    "longest_word_index=long_word.index(max(long_word))\n",
    "\n",
    "longest_word=string_list[longest_word_index]\n",
    "print('The longest word in this string:',longest_word)"
   ]
  },
  {
   "cell_type": "markdown",
   "id": "ec6afb30",
   "metadata": {},
   "source": [
    "38. Create a program that filters a list of strings to include only those with more than three vowels using list\n",
    "comprehension."
   ]
  },
  {
   "cell_type": "code",
   "execution_count": 5,
   "id": "15249aa3",
   "metadata": {},
   "outputs": [
    {
     "name": "stdout",
     "output_type": "stream",
     "text": [
      "The original list: ['hello', 'world', 'programming', 'audio', 'python', 'development', 'machine', 'learning', 'computer', 'example']\n",
      "The filtered list: ['audio', 'development']\n"
     ]
    }
   ],
   "source": [
    "def vowels(string):\n",
    "    count=0\n",
    "    for s in string:\n",
    "        if s=='a' or s=='e' or s=='i' or s=='o' or s=='u':\n",
    "            count+=1\n",
    "    return count\n",
    "\n",
    "string_list=['hello','world','programming','audio','python','development','machine','learning','computer','example']\n",
    "filtered_list=[s for s in string_list if vowels(s)>3]\n",
    "print('The original list:',string_list)\n",
    "print('The filtered list:',filtered_list)"
   ]
  },
  {
   "cell_type": "markdown",
   "id": "38a3284b",
   "metadata": {},
   "source": [
    "39. Develop a program that calculates the sum of the digits of numbers from 1 to 1000 using list\n",
    "comprehension."
   ]
  },
  {
   "cell_type": "code",
   "execution_count": 4,
   "id": "9e80a496",
   "metadata": {},
   "outputs": [
    {
     "name": "stdout",
     "output_type": "stream",
     "text": [
      "Sum of the digits for numbers from 1 to 1000: 13501\n"
     ]
    }
   ],
   "source": [
    "def digit_sum(n):\n",
    "    return sum(int(digit) for digit in str(n))\n",
    "\n",
    "digit_sums = [digit_sum(num) for num in range(1, 1001)]\n",
    "\n",
    "total_sum = sum(digit_sums)\n",
    "\n",
    "print(\"Sum of the digits for numbers from 1 to 1000:\", total_sum)"
   ]
  },
  {
   "cell_type": "markdown",
   "id": "49b0b01a",
   "metadata": {},
   "source": [
    "40. Write a program that generates a list of prime palindromic numbers using list comprehension."
   ]
  },
  {
   "cell_type": "code",
   "execution_count": 8,
   "id": "89d50667",
   "metadata": {},
   "outputs": [
    {
     "name": "stdout",
     "output_type": "stream",
     "text": [
      "Enter a limit: 1000\n",
      "The palindrome numbers upto 1000: [0, 1, 2, 3, 4, 5, 6, 7, 8, 9, 11, 22, 33, 44, 55, 66, 77, 88, 99, 101, 111, 121, 131, 141, 151, 161, 171, 181, 191, 202, 212, 222, 232, 242, 252, 262, 272, 282, 292, 303, 313, 323, 333, 343, 353, 363, 373, 383, 393, 404, 414, 424, 434, 444, 454, 464, 474, 484, 494, 505, 515, 525, 535, 545, 555, 565, 575, 585, 595, 606, 616, 626, 636, 646, 656, 666, 676, 686, 696, 707, 717, 727, 737, 747, 757, 767, 777, 787, 797, 808, 818, 828, 838, 848, 858, 868, 878, 888, 898, 909, 919, 929, 939, 949, 959, 969, 979, 989, 999]\n"
     ]
    }
   ],
   "source": [
    "num_range=int(input('Enter a limit: '))\n",
    "palindrome=[int(x) for x in range(num_range+1) if str(x)==str(x)[::-1] ]\n",
    "print(f'The palindrome numbers upto {num_range}:',palindrome)"
   ]
  }
 ],
 "metadata": {
  "kernelspec": {
   "display_name": "Python 3 (ipykernel)",
   "language": "python",
   "name": "python3"
  },
  "language_info": {
   "codemirror_mode": {
    "name": "ipython",
    "version": 3
   },
   "file_extension": ".py",
   "mimetype": "text/x-python",
   "name": "python",
   "nbconvert_exporter": "python",
   "pygments_lexer": "ipython3",
   "version": "3.9.12"
  }
 },
 "nbformat": 4,
 "nbformat_minor": 5
}
